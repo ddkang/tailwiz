{
 "cells": [
  {
   "attachments": {},
   "cell_type": "markdown",
   "metadata": {},
   "source": [
    "# Classify\n",
    "This notebook demonstrate the `tailwiz.classify` function. The purpose of the function is to classify unlabeled data into 2 or more classes. The number of classes depends on the number of classes in the labeled data you pass to the function. You have the option of passing in labeled data as references that the AI will use to assign classes to the unlabeled data. If no labeled data is passed in, your data will be separated into two classes simply by text similarity."
   ]
  },
  {
   "cell_type": "code",
   "execution_count": null,
   "metadata": {},
   "outputs": [],
   "source": [
    "# Import required packages.\n",
    "import tailwiz\n",
    "import pandas as pd"
   ]
  },
  {
   "attachments": {},
   "cell_type": "markdown",
   "metadata": {},
   "source": [
    "## 1. Data prep\n",
    "First, we read in our example data from a .csv file using the `pandas` library."
   ]
  },
  {
   "cell_type": "code",
   "execution_count": null,
   "metadata": {},
   "outputs": [],
   "source": [
    "labeled_data = pd.read_csv('data/tweets-labeled.csv')\n",
    "unlabeled_data = pd.read_csv('data/tweets-unlabeled.csv')"
   ]
  },
  {
   "attachments": {},
   "cell_type": "markdown",
   "metadata": {},
   "source": [
    "Our example data is Twitter data. It consists of tweets (`text`), the tweet sentiment (`sentiment`, either positive or negative), and an excerpt that identifies the sentiment of the tweet (`selected_text`). We have 200 labeled examples and ~3K unlabeled examples. We will focus on the tweet sentiments in this notebook: our goal will be to use `tailwiz` to label the 3K unlabeled examples using our 200 labeled examples as references.\n",
    "\n",
    "Note that providing more prelabeled examples will generally improve performance.\n",
    "\n",
    "Below is a preview of our data."
   ]
  },
  {
   "cell_type": "code",
   "execution_count": null,
   "metadata": {},
   "outputs": [],
   "source": [
    "# View first 5 rows of labeled data.\n",
    "labeled_data.head()"
   ]
  },
  {
   "cell_type": "code",
   "execution_count": null,
   "metadata": {},
   "outputs": [],
   "source": [
    "# View first 5 rows of unlabeled data.\n",
    "unlabeled_data.head()"
   ]
  },
  {
   "cell_type": "code",
   "execution_count": null,
   "metadata": {},
   "outputs": [],
   "source": [
    "# Before calling tailwiz.classify with our data, we must rename our columns in accordance to `tailwiz.classify` standards.\n",
    "# The text column must be named 'text' (it already is) and the label column must be named 'label' (it is currently named 'sentiment').\n",
    "labeled_data = labeled_data.rename(columns={'sentiment': 'label'})"
   ]
  },
  {
   "attachments": {},
   "cell_type": "markdown",
   "metadata": {},
   "source": [
    "## 2. Call `classify` function\n",
    "The next step is to call `tailwiz.classify`! We set `output_metrics` to `True` to also output an estimate of the performance of our classification job.\n",
    "\n",
    "Depending on the complexity of your data, this may take a few minutes. If this is your first time running `tailwiz.classify`, you might see some extra downloads."
   ]
  },
  {
   "cell_type": "code",
   "execution_count": null,
   "metadata": {},
   "outputs": [],
   "source": [
    "results, performance_estimate = tailwiz.classify(\n",
    "    text_to_label=unlabeled_data[['text']],\n",
    "    prelabeled_text=labeled_data[['text', 'label']],\n",
    "    output_metrics=True,\n",
    ")"
   ]
  },
  {
   "attachments": {},
   "cell_type": "markdown",
   "metadata": {},
   "source": [
    "## 3. Inspect and save results\n",
    "After classifying our unlabeled data, we can inspect and save results.\n",
    "\n",
    "First, let's inspect the first five rows to do a quick sanity check. Note the new column, `label_from_tailwiz`."
   ]
  },
  {
   "cell_type": "code",
   "execution_count": null,
   "metadata": {},
   "outputs": [],
   "source": [
    "results.head()"
   ]
  },
  {
   "attachments": {},
   "cell_type": "markdown",
   "metadata": {},
   "source": [
    "We can also print out our performance estimate to gain some additional insight to our labels."
   ]
  },
  {
   "cell_type": "code",
   "execution_count": null,
   "metadata": {},
   "outputs": [],
   "source": [
    "performance_estimate"
   ]
  },
  {
   "attachments": {},
   "cell_type": "markdown",
   "metadata": {},
   "source": [
    "Note that this is only an estimate based on your labeled data. We will not know for certain how the classification actually performed on the unlabeled data.\n",
    "\n",
    "Finally, we can save these results:"
   ]
  },
  {
   "cell_type": "code",
   "execution_count": null,
   "metadata": {},
   "outputs": [],
   "source": [
    "results.to_csv('data/tweets-unlabeled-with-classify-results-from-tailwiz.csv', index=False)  # We set index to False to avoid saving the index column added by pandas."
   ]
  }
 ],
 "metadata": {
  "kernelspec": {
   "display_name": "tailwiz",
   "language": "python",
   "name": "python3"
  },
  "language_info": {
   "codemirror_mode": {
    "name": "ipython",
    "version": 3
   },
   "file_extension": ".py",
   "mimetype": "text/x-python",
   "name": "python",
   "nbconvert_exporter": "python",
   "pygments_lexer": "ipython3",
   "version": "3.7.16"
  },
  "orig_nbformat": 4,
  "vscode": {
   "interpreter": {
    "hash": "67d6432c23756b71b5b097123b660cae0a27a285be82db069ccf013ebbd3beba"
   }
  }
 },
 "nbformat": 4,
 "nbformat_minor": 2
}
