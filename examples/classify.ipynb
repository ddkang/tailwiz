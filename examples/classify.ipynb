{
 "cells": [
  {
   "attachments": {},
   "cell_type": "markdown",
   "metadata": {},
   "source": [
    "# Classify\n",
    "This notebook demonstrate the `tailwiz.classify` function. The purpose of the function is to classify unlabeled data into 2 or more classes. The number of classes depends on the number of classes in the labeled data you pass to the function. You have the option of passing in labeled data as references that the AI will use to assign classes to the unlabeled data. If no labeled data is passed in, your data will be separated into two classes simply by text similarity.\n",
    "\n",
    "To quickly use this notebook for your own data, replace the variables in the first cell with your own paths. Then, run all remaining cells."
   ]
  },
  {
   "cell_type": "code",
   "execution_count": null,
   "metadata": {},
   "outputs": [],
   "source": [
    "###################################################################\n",
    "#######            START - Edits variables here.            #######\n",
    "\n",
    "# Path of data (csv) to be classified by tailwiz.\n",
    "to_classify = 'data/tweets.csv'\n",
    "# Column name of the text to be classified by tailwiz.\n",
    "to_classify_text_col = 'text'\n",
    "\n",
    "# Path of labeled data (csv) that tailwiz learn from.\n",
    "labeled_examples = 'data/tweets-with-labels.csv'\n",
    "# Column name of the text to be learned by tailwiz.\n",
    "labeled_examples_text_col = 'text'\n",
    "# Column name of the label to be learned by tailwiz.\n",
    "labeled_examples_label_col = 'sentiment'\n",
    "\n",
    "# Path to where you want to save your results.\n",
    "save_csv = 'data/tweets-with-tailwiz-labels.csv'\n",
    "\n",
    "##################################################################\n",
    "#######   END - Leave unedited to run with example data.   #######"
   ]
  },
  {
   "attachments": {},
   "cell_type": "markdown",
   "metadata": {},
   "source": [
    "The example data consists of tweets (`text`), the tweet sentiment (`sentiment`, positive or negative), and an excerpt that identifies the sentiment of the tweet (`selected_text`). We have 200 labeled examples and ~3K unlabeled examples. Our goal will be to use `tailwiz` to label the 3K unlabeled examples using our 200 labeled examples as references. Providing more labeled examples will generally improve performance."
   ]
  },
  {
   "attachments": {},
   "cell_type": "markdown",
   "metadata": {},
   "source": [
    "## 1. Install `tailwiz`"
   ]
  },
  {
   "cell_type": "code",
   "execution_count": null,
   "metadata": {},
   "outputs": [],
   "source": [
    "!python -m pip install --upgrade tailwiz"
   ]
  },
  {
   "cell_type": "code",
   "execution_count": null,
   "metadata": {},
   "outputs": [],
   "source": [
    "# Import required packages.\n",
    "import tailwiz\n",
    "import pandas as pd"
   ]
  },
  {
   "attachments": {},
   "cell_type": "markdown",
   "metadata": {},
   "source": [
    "## 2. Data prep\n",
    "We read in our data from a .csv file using the `pandas` library."
   ]
  },
  {
   "cell_type": "code",
   "execution_count": null,
   "metadata": {},
   "outputs": [],
   "source": [
    "labeled_examples = pd.read_csv(labeled_examples)\n",
    "to_classify = pd.read_csv(to_classify)"
   ]
  },
  {
   "cell_type": "code",
   "execution_count": null,
   "metadata": {},
   "outputs": [],
   "source": [
    "# View first 5 rows of labeled data.\n",
    "labeled_examples.head()"
   ]
  },
  {
   "cell_type": "code",
   "execution_count": null,
   "metadata": {},
   "outputs": [],
   "source": [
    "# View first 5 rows of unlabeled data to be classified by tailwiz.\n",
    "to_classify.head()"
   ]
  },
  {
   "cell_type": "code",
   "execution_count": null,
   "metadata": {},
   "outputs": [],
   "source": [
    "# Before calling tailwiz.classify with our data, we must rename our columns in accordance to `tailwiz.classify` standards.\n",
    "# The text column must be named 'text' and the label column must be named 'label'.\n",
    "to_classify = to_classify.rename(columns={to_classify_text_col: 'text'})\n",
    "labeled_examples = labeled_examples.rename(columns={labeled_examples_text_col: 'text', labeled_examples_label_col: 'label'})"
   ]
  },
  {
   "attachments": {},
   "cell_type": "markdown",
   "metadata": {},
   "source": [
    "## 3. Call `classify` function\n",
    "The next step is to call `tailwiz.classify`! We set `output_metrics` to `True` to also output an estimate of the performance of our classification job.\n",
    "\n",
    "Depending on the complexity of your data, this may take a few minutes. If this is your first time running `tailwiz.classify`, you might see some extra downloads."
   ]
  },
  {
   "cell_type": "code",
   "execution_count": null,
   "metadata": {},
   "outputs": [],
   "source": [
    "results, performance_estimate = tailwiz.classify(\n",
    "    to_classify,\n",
    "    labeled_examples,\n",
    "    output_metrics=True,\n",
    ")"
   ]
  },
  {
   "attachments": {},
   "cell_type": "markdown",
   "metadata": {},
   "source": [
    "## 4. Inspect and save results\n",
    "After classifying our unlabeled data, we can inspect and save results.\n",
    "\n",
    "First, let's inspect the first five rows to do a quick sanity check. A new column, `tailwiz_label`, contains the newly generated labels."
   ]
  },
  {
   "cell_type": "code",
   "execution_count": null,
   "metadata": {},
   "outputs": [],
   "source": [
    "results.head()"
   ]
  },
  {
   "attachments": {},
   "cell_type": "markdown",
   "metadata": {},
   "source": [
    "We can also print out our performance estimate to gain some additional insight to our labels."
   ]
  },
  {
   "cell_type": "code",
   "execution_count": null,
   "metadata": {},
   "outputs": [],
   "source": [
    "performance_estimate"
   ]
  },
  {
   "attachments": {},
   "cell_type": "markdown",
   "metadata": {},
   "source": [
    "This is only an estimate based on your labeled data. We will not know for certain how the classification actually performed on the unlabeled data.\n",
    "\n",
    "Finally, we can save these results:"
   ]
  },
  {
   "cell_type": "code",
   "execution_count": null,
   "metadata": {},
   "outputs": [],
   "source": [
    "results.to_csv(save_csv, index=False)  # We set index to False to avoid saving the index column added by pandas."
   ]
  }
 ],
 "metadata": {
  "kernelspec": {
   "display_name": "tailwiz",
   "language": "python",
   "name": "python3"
  },
  "language_info": {
   "codemirror_mode": {
    "name": "ipython",
    "version": 3
   },
   "file_extension": ".py",
   "mimetype": "text/x-python",
   "name": "python",
   "nbconvert_exporter": "python",
   "pygments_lexer": "ipython3",
   "version": "3.7.16"
  },
  "orig_nbformat": 4,
  "vscode": {
   "interpreter": {
    "hash": "67d6432c23756b71b5b097123b660cae0a27a285be82db069ccf013ebbd3beba"
   }
  }
 },
 "nbformat": 4,
 "nbformat_minor": 2
}
