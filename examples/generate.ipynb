{
 "cells": [
  {
   "attachments": {},
   "cell_type": "markdown",
   "metadata": {},
   "source": [
    "# Generate\n",
    "This notebook demonstrate the `tailwiz.generate` function. The purpose of the function is to generate a response to a `prompt`. You have the option of passing in labeled data as references that the AI will use to generate text for the unlabeled data's prompts. If no labeled data is passed in, text will still be generated in response to your data's `prompt`s, but possibly with unexpected results.\n",
    "\n",
    "The main difference between `tailwiz.parse` and `tailwiz.generate` is that, with `tailwiz.parse`, the labels must be extracted directly from the text. By contrast, `tailwiz.generate` is able to generate labels simply given a prompt."
   ]
  },
  {
   "cell_type": "code",
   "execution_count": null,
   "metadata": {},
   "outputs": [],
   "source": [
    "###################################################################\n",
    "#######            START - Edits variables here.            #######\n",
    "\n",
    "# Instructions or question describing your task. The prompt will be\n",
    "# attached to the beginning of each of your texts.\n",
    "prompt = 'Extract the most important phrase in determining the sentiment of the text.'\n",
    "\n",
    "# Path of data (csv) to be used to generate text.\n",
    "to_generate = 'data/tweets.csv'\n",
    "# Column name of the text to be used to generate text.\n",
    "to_generate_text_col = 'text'\n",
    "\n",
    "# Path of labeled data (csv) that tailwiz learn from.\n",
    "labeled_examples = 'data/tweets-with-labels.csv'\n",
    "# Column name of the text to be learned by tailwiz.\n",
    "labeled_examples_text_col = 'text'\n",
    "# Column name of the label to be learned by tailwiz.\n",
    "labeled_examples_label_col = 'sentiment'\n",
    "\n",
    "# Path to where you want to save your results.\n",
    "save_csv = 'data/tweets-with-tailwiz-labels.csv'\n",
    "\n",
    "##################################################################\n",
    "#######   END - Leave unedited to run with example data.   #######"
   ]
  },
  {
   "cell_type": "markdown",
   "metadata": {},
   "source": [
    "The example data consists of tweets (`text`), the tweet sentiment (`sentiment`, positive or negative), and an excerpt that identifies the sentiment of the tweet (`selected_text`). We have 200 labeled examples and ~3K unlabeled examples. Our goal will be to use `tailwiz` to label the 3K unlabeled examples using our 200 labeled examples as references. Providing more labeled examples will generally improve performance."
   ]
  },
  {
   "cell_type": "markdown",
   "metadata": {},
   "source": [
    "## 1. Install `tailwiz`"
   ]
  },
  {
   "cell_type": "code",
   "execution_count": null,
   "metadata": {},
   "outputs": [],
   "source": [
    "!python -m pip install --upgrade tailwiz"
   ]
  },
  {
   "cell_type": "code",
   "execution_count": null,
   "metadata": {},
   "outputs": [],
   "source": [
    "# Import required packages.\n",
    "import tailwiz\n",
    "import pandas as pd"
   ]
  },
  {
   "attachments": {},
   "cell_type": "markdown",
   "metadata": {},
   "source": [
    "## 2. Data prep\n",
    "First, we read in our example data from a .csv file using the `pandas` library."
   ]
  },
  {
   "cell_type": "code",
   "execution_count": null,
   "metadata": {},
   "outputs": [],
   "source": [
    "labeled_examples = pd.read_csv('data/tweets-with-labels.csv')\n",
    "to_generate = pd.read_csv('data/tweets.csv')"
   ]
  },
  {
   "attachments": {},
   "cell_type": "markdown",
   "metadata": {},
   "source": [
    "Our example data is Twitter data. It consists of tweets (`text`), the tweet sentiment (`sentiment`, either positive or negative), and an excerpt that identifies the sentiment of the tweet (`selected_text`). We have 200 labeled examples and ~3K unlabeled examples. We will focus on the tweet sentiments in this notebook: our goal will be to use `tailwiz` to label the 3K unlabeled examples using our 200 labeled examples as references.\n",
    "\n",
    "Note that in the `tailwiz.classify` example notebook (`classify.ipynb`), we treat the positive/negative labels as classes into which we classify the rest of our unlabeled data. In this notebook, we treat the positive/negative labels as responses to the prompt, \"Label this tweet as either \"positive\" or \"negative\" based on its sentiment: ...\".\n",
    "\n",
    "Also note that providing more labeled examples will generally improve performance.\n",
    "\n",
    "Below is a preview of our data."
   ]
  },
  {
   "cell_type": "code",
   "execution_count": null,
   "metadata": {},
   "outputs": [],
   "source": [
    "# View first 5 rows of labeled data.\n",
    "labeled_examples.head()"
   ]
  },
  {
   "cell_type": "code",
   "execution_count": null,
   "metadata": {},
   "outputs": [],
   "source": [
    "# View first 5 rows of unlabeled data.\n",
    "to_generate.head()"
   ]
  },
  {
   "cell_type": "code",
   "execution_count": null,
   "metadata": {},
   "outputs": [],
   "source": [
    "# Before calling tailwiz.generate with our data, we must rename our label column in accordance to `tailwiz.generate` standards.\n",
    "labeled_examples = labeled_examples.rename(columns={labeled_examples_label_col: 'label'})"
   ]
  },
  {
   "attachments": {},
   "cell_type": "markdown",
   "metadata": {},
   "source": [
    "We must create a prompt column. `tailwiz` will attempt to follow the prompt to generate labels."
   ]
  },
  {
   "cell_type": "code",
   "execution_count": null,
   "metadata": {},
   "outputs": [],
   "source": [
    "labeled_examples['prompt'] = prompt + ' ' + labeled_examples[labeled_examples_text_col]\n",
    "to_generate['prompt'] = prompt + ' ' + to_generate[to_generate_text_col]"
   ]
  },
  {
   "attachments": {},
   "cell_type": "markdown",
   "metadata": {},
   "source": [
    "## 3. Call `generate` function\n",
    "The next step is to call `tailwiz.generate`! We set `output_metrics` to `True` to also output an estimate of the performance of our classification job.\n",
    "\n",
    "This may take a few minutes (5-15 minutes). If this is your first time running `tailwiz.generate`, you might see some extra downloads."
   ]
  },
  {
   "cell_type": "code",
   "execution_count": null,
   "metadata": {},
   "outputs": [],
   "source": [
    "results, performance_estimate = tailwiz.generate(\n",
    "    to_generate[['prompt']],\n",
    "    labeled_examples=labeled_examples[['prompt', 'label']],\n",
    "    output_metrics=True,\n",
    ")"
   ]
  },
  {
   "attachments": {},
   "cell_type": "markdown",
   "metadata": {},
   "source": [
    "## 3. Inspect and save results\n",
    "After generating responses for our unlabeled data, we can inspect and save results.\n",
    "\n",
    "First, let's inspect the first five rows to do a quick sanity check. A new column, `tailwiz_label`, contains the newly generated labels."
   ]
  },
  {
   "cell_type": "code",
   "execution_count": null,
   "metadata": {},
   "outputs": [],
   "source": [
    "results.head()"
   ]
  },
  {
   "attachments": {},
   "cell_type": "markdown",
   "metadata": {},
   "source": [
    "We can also print out our performance estimate to gain some additional insight to our labels."
   ]
  },
  {
   "cell_type": "code",
   "execution_count": null,
   "metadata": {},
   "outputs": [],
   "source": [
    "performance_estimate"
   ]
  },
  {
   "attachments": {},
   "cell_type": "markdown",
   "metadata": {},
   "source": [
    "Note that this is only an estimate based on your labeled data. We will not know for certain how the text generation job actually performed on the unlabeled data.\n",
    "\n",
    "Finally, we can save these results:"
   ]
  },
  {
   "cell_type": "code",
   "execution_count": null,
   "metadata": {},
   "outputs": [],
   "source": [
    "results.to_csv(save_csv, index=False)  # We set index to False to avoid saving the index column added by pandas."
   ]
  }
 ],
 "metadata": {
  "kernelspec": {
   "display_name": "tailwiz",
   "language": "python",
   "name": "python3"
  },
  "language_info": {
   "codemirror_mode": {
    "name": "ipython",
    "version": 3
   },
   "file_extension": ".py",
   "mimetype": "text/x-python",
   "name": "python",
   "nbconvert_exporter": "python",
   "pygments_lexer": "ipython3",
   "version": "3.7.16"
  },
  "orig_nbformat": 4,
  "vscode": {
   "interpreter": {
    "hash": "67d6432c23756b71b5b097123b660cae0a27a285be82db069ccf013ebbd3beba"
   }
  }
 },
 "nbformat": 4,
 "nbformat_minor": 2
}
